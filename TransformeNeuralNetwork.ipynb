{
  "nbformat": 4,
  "nbformat_minor": 0,
  "metadata": {
    "colab": {
      "provenance": [],
      "gpuType": "T4"
    },
    "kernelspec": {
      "name": "python3",
      "display_name": "Python 3"
    },
    "language_info": {
      "name": "python"
    },
    "accelerator": "GPU"
  },
  "cells": [
    {
      "cell_type": "markdown",
      "source": [],
      "metadata": {
        "id": "ro2AP3VMNqSI"
      }
    },
    {
      "cell_type": "code",
      "execution_count": 1,
      "metadata": {
        "id": "uiIa_vU3aJk7",
        "colab": {
          "base_uri": "https://localhost:8080/"
        },
        "outputId": "2e99945f-8139-454a-956b-cb3056beb638"
      },
      "outputs": [
        {
          "output_type": "stream",
          "name": "stdout",
          "text": [
            "Mounted at /content/gdrive\n"
          ]
        }
      ],
      "source": [
        "from google.colab import drive\n",
        "drive.mount('/content/gdrive')"
      ]
    },
    {
      "cell_type": "code",
      "source": [
        "cd gdrive/MyDrive/math398/final_exam_2023"
      ],
      "metadata": {
        "colab": {
          "base_uri": "https://localhost:8080/"
        },
        "id": "Q-o_Vf5W0lbY",
        "outputId": "385590a1-59ab-4a8d-d988-4d29885191f5"
      },
      "execution_count": 2,
      "outputs": [
        {
          "output_type": "stream",
          "name": "stdout",
          "text": [
            "/content/gdrive/MyDrive/math398/final_exam_2023\n"
          ]
        }
      ]
    },
    {
      "cell_type": "code",
      "source": [
        "#Import statements\n",
        "import torch\n",
        "import torch.nn as nn\n",
        "import torch.nn.functional as F\n",
        "import torch.optim as optim\n",
        "from random import randint\n",
        "import utils\n",
        "import time\n",
        "import math"
      ],
      "metadata": {
        "id": "0ICjpcoW0n8g"
      },
      "execution_count": 3,
      "outputs": []
    },
    {
      "cell_type": "code",
      "source": [
        "#Device miscellaneous\n",
        "device = torch.device(\"cuda\")   #or \"cpu\" for mac CPU\n",
        "print(device)"
      ],
      "metadata": {
        "colab": {
          "base_uri": "https://localhost:8080/"
        },
        "id": "OKo5sBzt0n54",
        "outputId": "6b88ac76-dfbe-41e8-f543-88ee0c090db8"
      },
      "execution_count": 4,
      "outputs": [
        {
          "output_type": "stream",
          "name": "stdout",
          "text": [
            "cuda\n"
          ]
        }
      ]
    },
    {
      "cell_type": "code",
      "source": [
        "torch.cuda.get_device_name()"
      ],
      "metadata": {
        "colab": {
          "base_uri": "https://localhost:8080/",
          "height": 34
        },
        "id": "6s4xzgmU0n3S",
        "outputId": "0d220bd5-7a6d-4995-afdc-43ac8e5d2ed1"
      },
      "execution_count": 5,
      "outputs": [
        {
          "output_type": "execute_result",
          "data": {
            "text/plain": [
              "'Tesla T4'"
            ],
            "application/vnd.google.colaboratory.intrinsic+json": {
              "type": "string"
            }
          },
          "metadata": {},
          "execution_count": 5
        }
      ]
    },
    {
      "cell_type": "code",
      "source": [
        "#Download data\n",
        "train_data = torch.load(\"../data/twitter/train_data.pt\")\n",
        "train_label = torch.load(\"../data/twitter/train_label.pt\")\n",
        "train_actual_tweet = torch.load(\"../data/twitter/train_actual_tweet.pt\")\n",
        "\n",
        "test_data = torch.load(\"../data/twitter/test_data.pt\")\n",
        "test_label = torch.load(\"../data/twitter/test_label.pt\")\n",
        "test_actual_tweet = torch.load(\"../data/twitter/test_actual_tweet.pt\")\n",
        "\n",
        "idx2word = torch.load('../data/twitter/idx2word.pt')"
      ],
      "metadata": {
        "id": "I0JzPedB0n0s"
      },
      "execution_count": 6,
      "outputs": []
    },
    {
      "cell_type": "code",
      "source": [
        "#EDA\n",
        "print(\"train_data type:\", type(train_data), \"\\n\")                   #train_data is a LIST of TENSORS\n",
        "print(\"Size of train_data:\", len(train_data), \"\\n\")\n",
        "print(\"Words in train_data[0]:\", len(train_data[0]), \"\\n\")\n",
        "print(\"Index values of train_data[0]:\",  train_data[0], \"\\n\")\n",
        "print(\"Tweet train_data[0]:\", train_actual_tweet[0], \"\\n\")\n",
        "print(\"Sentiment label:\", train_label[0], \"\\n\")\n",
        "print(\"Vocabulary size:\", len(idx2word), \"\\n\")\n",
        "print(\"Vocabulary:\", idx2word[0:50])"
      ],
      "metadata": {
        "colab": {
          "base_uri": "https://localhost:8080/"
        },
        "id": "X0rcPtmO0nyV",
        "outputId": "c438150c-cfb6-463f-a467-18fc3fc71fa5"
      },
      "execution_count": 7,
      "outputs": [
        {
          "output_type": "stream",
          "name": "stdout",
          "text": [
            "train_data type: <class 'list'> \n",
            "\n",
            "Size of train_data: 1428612 \n",
            "\n",
            "Words in train_data[0]: 25 \n",
            "\n",
            "Index values of train_data[0]: tensor([    0,   334,     0,   362,    21,     8,   124,    13,   105,    51,\n",
            "         3610,     4,  1301,    21,    14,     7,   194, 10012,     2,    25,\n",
            "          451,    17,     9,   187,    64]) \n",
            "\n",
            "Tweet train_data[0]: @idlewild_ @zaktar Stop that, or you'll go blind. Hahahaha that is the best threat I have seen in a long time \n",
            "\n",
            "Sentiment label: tensor(1) \n",
            "\n",
            "Vocabulary size: 30002 \n",
            "\n",
            "Vocabulary: ['<unk>', '<pad>', 'i', '!', '.', 'to', ' ', 'the', ',', 'a', 'my', 'and', 'it', 'you', 'is', '?', '...', 'in', 'for', 'of', \"'s\", 'that', \"n't\", 'on', 'me', 'have', 'so', 'but', 'do', \"'m\", 'just', '-', 'with', 'be', 'was', 'at', 'not', '..', '&', 'this', 'now', ';', 'up', 'good', 'day', 'all', 'get', 'out', 'are', 'like']\n"
          ]
        }
      ]
    },
    {
      "cell_type": "code",
      "source": [
        "#Attention Function\n",
        "def scaled_dot_product_attention(Q, K, V):\n",
        "    #Q & K: bs x nh x T x d_key\n",
        "    #V: bs x nh x T x d_val\n",
        "\n",
        "    d_key = K.shape[-1]\n",
        "    Ã  = Q @ K.transpose(-2, -1) / math.sqrt(d_key)\n",
        "    A = F.softmax(Ã, dim=-1)    #A: bs x nh x T x T\n",
        "\n",
        "    Y = A @ V                   #Y: bs x nh x T x d_val\n",
        "\n",
        "    return Y"
      ],
      "metadata": {
        "id": "0D4GXQoQ0nvX"
      },
      "execution_count": 8,
      "outputs": []
    },
    {
      "cell_type": "code",
      "source": [
        "#Multihead Attention\n",
        "class MultiHeadAttention(nn.Module):\n",
        "    def __init__(self, d, num_heads):           #class MultiHeadAttention takes 2 arguemnts (d and num_heads)\n",
        "        super().__init__()\n",
        "\n",
        "        assert d % num_heads == 0               #Mind this when choosing parameters (num_heads, d_in)\n",
        "        d_key = d // num_heads\n",
        "        d_val = d // num_heads\n",
        "\n",
        "        self.linear_q = nn.Linear(d , num_heads * d_key, bias=False)\n",
        "        self.linear_k = nn.Linear(d, num_heads * d_key, bias=False)\n",
        "        self.linear_v = nn.Linear(d , num_heads * d_val, bias=False)\n",
        "        self.linear_out = nn.Linear(d, d, bias=False)\n",
        "\n",
        "        self.nh = num_heads\n",
        "        self.dk = d_key\n",
        "        self.dv = d_val\n",
        "\n",
        "\n",
        "    def forward(self, x):                       # x is: bs x T x d\n",
        "        # extract batchsize and length of the sequence\n",
        "        bs = x.shape[0]\n",
        "        T = x.shape[1]\n",
        "\n",
        "        # compute query, keys and values\n",
        "        Q = self.linear_q(x)                    # (bs, T, nh*dk)\n",
        "        K = self.linear_k(x)                    # (bs, T, nh*dk)\n",
        "        V = self.linear_v(x)                    # (bs, T, nh*dv)\n",
        "\n",
        "        # reshape\n",
        "        Q = Q.view(bs, T, self.nh, self.dk)     # (bs, T, nh, dk)\n",
        "        K = K.view(bs, T, self.nh, self.dk)     # (bs, T, nh, dk)\n",
        "        V = V.view(bs, T, self.nh, self.dk)     # (bs, T, nh, dv)\n",
        "\n",
        "        # switch dimension so the head dimension is considered as a batch dimension\n",
        "        Q = Q.transpose(1, 2)                   # (bs, nh, T, dk)\n",
        "        K = K.transpose(1, 2)                   # (bs, nh, T, dk)\n",
        "        V = V.transpose(1, 2)                   # (bs, nh, T, dv)\n",
        "\n",
        "        # scaled dot product on batch of batch of T-by-dk and T-by-dv matrices\n",
        "        Y = scaled_dot_product_attention(Q,K, V) # (bs, nh, T, dv)\n",
        "\n",
        "        #reshape_2:\n",
        "        # switch dimension back\n",
        "        Y = Y.transpose(1, 2).contiguous()      # (bs, T, nh, dv)\n",
        "\n",
        "        # reshape\n",
        "        Y = Y.view(bs, T, self.nh * self.dv)    # (bs, T, nh*dv)\n",
        "\n",
        "        # final linear layer\n",
        "        Y = self.linear_out(Y)                 # (bs, T, nh*dv)            #Final linear layer W_o\n",
        "\n",
        "        return Y"
      ],
      "metadata": {
        "id": "-IKM5Qbh0nm8"
      },
      "execution_count": 9,
      "outputs": []
    },
    {
      "cell_type": "code",
      "source": [
        "#MLP (Multi Layer Perceptron)\n",
        "class MLP(nn.Module):\n",
        "    def __init__(self, d):\n",
        "        super().__init__()\n",
        "        self.linear_1 = nn.Linear(d, 4*d)       #4*d is convention\n",
        "        self.linear_2 = nn.Linear(4*d, d)\n",
        "\n",
        "    def forward(self, x):                       #x: bs x T x d\n",
        "        x = self.linear_1(x)\n",
        "        x = F.relu(x)\n",
        "        x = self.linear_2(x)\n",
        "\n",
        "        return x"
      ],
      "metadata": {
        "id": "kRIJBz2K06PL"
      },
      "execution_count": 10,
      "outputs": []
    },
    {
      "cell_type": "code",
      "source": [
        "#Transformer Block\n",
        "class TransformerBlock(nn.Module):\n",
        "    def __init__(self, d, num_heads):\n",
        "        super().__init__()\n",
        "\n",
        "        #Assigning attributes\n",
        "        self.d = d\n",
        "        self.num_heads = num_heads\n",
        "\n",
        "        #Layer Normalization\n",
        "        self.mod_layernorm = nn.LayerNorm(d, elementwise_affine=False)\n",
        "\n",
        "        #MLP block\n",
        "        self.MLP_block = MLP(d)\n",
        "\n",
        "        #Attention block\n",
        "        self.attention_block = MultiHeadAttention(d, num_heads)\n",
        "\n",
        "\n",
        "    def forward(self, x):\n",
        "\n",
        "        #Layer Normalization\n",
        "        x_ln = self.mod_layernorm(x)\n",
        "\n",
        "        #Multi-Head Attention\n",
        "        y =self.attention_block(x_ln)\n",
        "\n",
        "        #Layer Normalization\n",
        "        y_ln = self.mod_layernorm(y)\n",
        "\n",
        "        #MLP\n",
        "        z = self.MLP_block(y_ln)\n",
        "\n",
        "        #Residual connection\n",
        "        output = x + y + z\n",
        "\n",
        "        return output"
      ],
      "metadata": {
        "id": "NWxBte3o06LQ"
      },
      "execution_count": 11,
      "outputs": []
    },
    {
      "cell_type": "code",
      "source": [
        "#Transformer Architecture\n",
        "class Transformer(nn.Module):\n",
        "    def __init__(self, d, blocks, num_heads):       #input is x: bs x T x d_in\n",
        "        super().__init__()\n",
        "\n",
        "        #Assigning attributes\n",
        "        self.d = d\n",
        "        self.blocks = blocks\n",
        "        self.num_heads = num_heads\n",
        "        self.max_length = 183                              #Whatever the LONGESET sequence/tweet in the minibatch is\n",
        "\n",
        "        #Embedding modules\n",
        "        self.mod_embed = nn.Embedding(30002, d)     #30,002 is the size of the vocabulary. What embedding dimension should we choose?\n",
        "        self.mod_pos = nn.Embedding(self.max_length, d)\n",
        "\n",
        "        #Final binary classification layer\n",
        "        self.W_v = nn.Linear(d, 2)\n",
        "\n",
        "        #_n_ transformer blocks\n",
        "        transformer_list = []\n",
        "        for i in range(blocks):\n",
        "            mod = TransformerBlock(d, num_heads)\n",
        "            transformer_list.append(mod)\n",
        "        self.transformers = nn.ModuleList(transformer_list)\n",
        "\n",
        "\n",
        "    def forward(self, x):\n",
        "\n",
        "        #Variable assignment\n",
        "        bs = x.shape[0]\n",
        "\n",
        "        #Word embeddings\n",
        "        x = self.mod_embed(x)                 #Slides Transformers_2: y = mod(minibatch)      (mod = nn.Embedding(diction, d_in))\n",
        "\n",
        "        #Transformer blocks\n",
        "        for i in range(self.blocks):\n",
        "            transformer_block = self.transformers[i]\n",
        "            x = transformer_block(x)\n",
        "\n",
        "        #Average\n",
        "        z = x.mean(dim=1)                           #Choose so that dim=T so that we are left with bs x d_in (x 1)\n",
        "\n",
        "        #V linear layer\n",
        "        #RESHAPE z FOR SIZE-COMPATIBILITY\n",
        "        z = z.view(bs, self.d)\n",
        "        result = self.W_v(z)\n",
        "\n",
        "        return result"
      ],
      "metadata": {
        "id": "Pq7YVtpB06He"
      },
      "execution_count": 26,
      "outputs": []
    },
    {
      "cell_type": "code",
      "source": [
        "#Network instantiation\n",
        "d_in = 120          #100-1000                        #d_in / #heads has to be an integer!           # d_val = d_key = d_in / # heads\n",
        "blocks = 4          #4-12 transformer blocks\n",
        "num_heads = 6       #6, 8, 10, 12 heads\n",
        "\n",
        "net = Transformer(d_in, blocks, num_heads)\n",
        "\n",
        "#Send network to GPU\n",
        "net = net.to(device)"
      ],
      "metadata": {
        "id": "RwqCEZ1K06D4"
      },
      "execution_count": 13,
      "outputs": []
    },
    {
      "cell_type": "code",
      "source": [
        "#Training-Loop Miscellaneous\n",
        "lr = 0.0001\n",
        "optimizer = optim.AdamW(net.parameters(), lr, weight_decay=0.1, betas=(0.9, 0.95))\n",
        "criterion = nn.CrossEntropyLoss()\n",
        "bs = 200\n",
        "\n",
        "\n",
        "#Training Phase\n",
        "start=time.time()\n",
        "epochs = 9      #\"10 is too much\n",
        "\n",
        "for epoch in range(epochs):\n",
        "    if epoch == 4:\n",
        "        lr = lr / 10\n",
        "\n",
        "    optimizer = optim.AdamW(net.parameters(), lr, weight_decay=0.1, betas=(0.9, 0.95))\n",
        "\n",
        "    running_loss=0\n",
        "    running_error=0\n",
        "    num_batches=0\n",
        "\n",
        "    shuffled_indices=torch.randperm(len(train_data))\n",
        "\n",
        "    for count in range(0, len(train_data), bs):\n",
        "\n",
        "        #Set gradients to zero\n",
        "        optimizer.zero_grad()\n",
        "\n",
        "        #Create minibatch\n",
        "        indices = shuffled_indices[count:count+bs]     #syntax?\n",
        "        minibatch_data, minibatch_label = utils.make_minibatch(indices, train_data, train_label)\n",
        "\n",
        "        #Send minibatch to GPU\n",
        "        minibatch_data = minibatch_data.to(device)\n",
        "        minibatch_label = minibatch_label.to(device)\n",
        "\n",
        "        #Forward minibatch through net\n",
        "        scores = net(minibatch_data)\n",
        "\n",
        "        #Compute average loss in minibatch\n",
        "        loss = criterion(scores, minibatch_label)\n",
        "\n",
        "        #Backward pass (computing dL/dW's)\n",
        "        loss.backward()\n",
        "\n",
        "        #One step of SGD\n",
        "        optimizer.step()\n",
        "\n",
        "        #COMPUTING STATS------------------------------\n",
        "        num_batches+=1\n",
        "\n",
        "        with torch.no_grad():\n",
        "\n",
        "            running_loss += loss.item()\n",
        "\n",
        "            error = utils.get_error( scores , minibatch_label)\n",
        "            running_error += error.item()\n",
        "\n",
        "\n",
        "    # compute stats for the full training set\n",
        "    total_loss = running_loss/num_batches\n",
        "    total_error = running_error/num_batches\n",
        "    elapsed = time.time()-start\n",
        "\n",
        "    print('epoch=',epoch, '\\t time=', elapsed, '\\t loss=', total_loss , '\\t error=', total_error*100 ,'percent')\n",
        "    print(' ')"
      ],
      "metadata": {
        "id": "9ZPsyyU5058X",
        "colab": {
          "base_uri": "https://localhost:8080/"
        },
        "outputId": "49145533-60c4-49cd-bfb6-0dfb475510e4"
      },
      "execution_count": 15,
      "outputs": [
        {
          "output_type": "stream",
          "name": "stdout",
          "text": [
            "epoch= 0 \t time= 175.34007740020752 \t loss= 0.4822301572649703 \t error= 23.66237593324561 percent\n",
            " \n",
            "epoch= 1 \t time= 349.22312688827515 \t loss= 0.4314102331908526 \t error= 20.19163134433788 percent\n",
            " \n",
            "epoch= 2 \t time= 523.2048017978668 \t loss= 0.4144927307229159 \t error= 19.180689706213663 percent\n",
            " \n",
            "epoch= 3 \t time= 697.2586386203766 \t loss= 0.4029460074453044 \t error= 18.531053659296518 percent\n",
            " \n",
            "epoch= 4 \t time= 871.5909390449524 \t loss= 0.38312766491148664 \t error= 17.44291438551125 percent\n",
            " \n",
            "epoch= 5 \t time= 1046.4763927459717 \t loss= 0.37824948597595115 \t error= 17.16596870312899 percent\n",
            " \n",
            "epoch= 6 \t time= 1221.3774507045746 \t loss= 0.37539334848005856 \t error= 17.02011206415706 percent\n",
            " \n",
            "epoch= 7 \t time= 1395.6466448307037 \t loss= 0.3727986092250565 \t error= 16.874488677583376 percent\n",
            " \n",
            "epoch= 8 \t time= 1569.0286421775818 \t loss= 0.37050838459362373 \t error= 16.743446330040328 percent\n",
            " \n"
          ]
        }
      ]
    },
    {
      "cell_type": "code",
      "source": [
        "idx=randint(0, len(test_data) - 1)\n",
        "tweet = test_data[idx]\n",
        "\n",
        "text_tweet = utils.tensor2text(tweet)\n",
        "label = train_label[idx]\n",
        "\n",
        "tweet = tweet.to(device)\n",
        "input = tweet.view(1,tweet.size(0))\n",
        "p = net(input)\n",
        "\n",
        "print('TWEET:', text_tweet )\n",
        "print('LABEL' , label )\n",
        "probs= F.softmax(p, dim=1)\n",
        "utils.show_prob(probs)"
      ],
      "metadata": {
        "id": "qWfxXUSt054v",
        "colab": {
          "base_uri": "https://localhost:8080/",
          "height": 438
        },
        "outputId": "b3ff254e-0d12-4799-8be2-234fefe1e8e4"
      },
      "execution_count": 17,
      "outputs": [
        {
          "output_type": "stream",
          "name": "stdout",
          "text": [
            "TWEET: <unk> sorely tempted , it 's a beautiful part of the world - enjoy\n",
            "LABEL tensor(0)\n"
          ]
        },
        {
          "output_type": "display_data",
          "data": {
            "text/plain": [
              "<Figure size 640x480 with 1 Axes>"
            ],
            "image/png": "[encoded data removed]"
          },
          "metadata": {}
        }
      ]
    },
    {
      "cell_type": "code",
      "source": [
        "tweet_text = \"Today is my last day in LA ! I'm stoked .\"\n",
        "tweet = utils.text2tensor(tweet_text)\n",
        "tweet = tweet.view(1,tweet.size(0))\n",
        "tweet = tweet.to(device)\n",
        "\n",
        "p = net(tweet)\n",
        "p= F.softmax(p, dim=1)\n",
        "\n",
        "print(\"TWEET:\", tweet_text)\n",
        "print(\"\\n\")\n",
        "print(tweet )\n",
        "print(\"\\n\")\n",
        "utils.show_prob(p)"
      ],
      "metadata": {
        "id": "EElgk29i1QiY",
        "colab": {
          "base_uri": "https://localhost:8080/",
          "height": 521
        },
        "outputId": "b062f38d-44fc-49db-a19d-f72432da02e5"
      },
      "execution_count": 18,
      "outputs": [
        {
          "output_type": "stream",
          "name": "stdout",
          "text": [
            "TWEET: Today is my last day in LA ! I'm stoked .\n",
            "\n",
            "\n",
            "tensor([[  53,   14,   10,  112,   44,   17,  588,    3,  661, 2129,    4]],\n",
            "       device='cuda:0')\n",
            "\n",
            "\n"
          ]
        },
        {
          "output_type": "display_data",
          "data": {
            "text/plain": [
              "<Figure size 640x480 with 1 Axes>"
            ],
            "image/png": "[encoded data removed]"
          },
          "metadata": {}
        }
      ]
    },
    {
      "cell_type": "code",
      "source": [
        "tweet_text = \"Mañana llego a Mexico y de ahi a San Miguel de Allende\"\n",
        "tweet = utils.text2tensor(tweet_text)\n",
        "tweet = tweet.view(1,tweet.size(0))\n",
        "tweet = tweet.to(device)\n",
        "\n",
        "p = net(tweet)\n",
        "p= F.softmax(p, dim=1)\n",
        "\n",
        "print(\"TWEET:\",tweet_text)\n",
        "print(\"\\n\")\n",
        "print(tweet )\n",
        "print(\"\\n\")\n",
        "utils.show_prob(p)"
      ],
      "metadata": {
        "id": "kfckckUR1Qc_",
        "colab": {
          "base_uri": "https://localhost:8080/",
          "height": 521
        },
        "outputId": "f176ce4f-3cad-4a7d-86b7-71b5a716b320"
      },
      "execution_count": 22,
      "outputs": [
        {
          "output_type": "stream",
          "name": "stdout",
          "text": [
            "TWEET: Mañana llego a Mexico y de ahi a San Miguel de Allende\n",
            "\n",
            "\n",
            "tensor([[    0,     0,     9,  2523,   609,  1191, 24894,     9,  1354, 15706,\n",
            "          1191,     0]], device='cuda:0')\n",
            "\n",
            "\n"
          ]
        },
        {
          "output_type": "display_data",
          "data": {
            "text/plain": [
              "<Figure size 640x480 with 1 Axes>"
            ],
            "image/png": "[encoded data removed]"
          },
          "metadata": {}
        }
      ]
    },
    {
      "cell_type": "code",
      "source": [
        "tweet_text = \"I can't wait to start the position !\"\n",
        "tweet = utils.text2tensor(tweet_text)\n",
        "tweet = tweet.view(1,tweet.size(0))\n",
        "tweet = tweet.to(device)\n",
        "\n",
        "p = net(tweet)\n",
        "p= F.softmax(p, dim=1)\n",
        "\n",
        "print(\"TWEET:\",tweet_text)\n",
        "print(\"\\n\")\n",
        "print(tweet)\n",
        "print(\"\\n\")\n",
        "utils.show_prob(p)"
      ],
      "metadata": {
        "id": "Ycg73RFd1aKK",
        "colab": {
          "base_uri": "https://localhost:8080/",
          "height": 504
        },
        "outputId": "720b026e-d8ea-4de6-b249-427b4b3cf132"
      },
      "execution_count": 24,
      "outputs": [
        {
          "output_type": "stream",
          "name": "stdout",
          "text": [
            "TWEET: I can't wait to start the position !\n",
            "\n",
            "\n",
            "tensor([[   2, 1591,  162,    5,  282,    7, 3849,    3]], device='cuda:0')\n",
            "\n",
            "\n"
          ]
        },
        {
          "output_type": "display_data",
          "data": {
            "text/plain": [
              "<Figure size 640x480 with 1 Axes>"
            ],
            "image/png": "[encoded data removed]"
          },
          "metadata": {}
        }
      ]
    },
    {
      "cell_type": "code",
      "source": [
        "tweet_text = \"Hello, World !\"\n",
        "tweet = utils.text2tensor(tweet_text)\n",
        "tweet = tweet.view(1,tweet.size(0))\n",
        "tweet = tweet.to(device)\n",
        "\n",
        "p = net(tweet)\n",
        "p= F.softmax(p, dim=1)\n",
        "\n",
        "print(\"TWEET:\",tweet_text)\n",
        "print(\"\\n\")\n",
        "print(tweet)\n",
        "print(\"\\n\")\n",
        "utils.show_prob(p)"
      ],
      "metadata": {
        "id": "P72QkJtm1aC_",
        "colab": {
          "base_uri": "https://localhost:8080/",
          "height": 504
        },
        "outputId": "a78e7600-9fc4-4c75-f8f8-a6eb5ecfd040"
      },
      "execution_count": 25,
      "outputs": [
        {
          "output_type": "stream",
          "name": "stdout",
          "text": [
            "TWEET: Hello, World !\n",
            "\n",
            "\n",
            "tensor([[  0, 328,   3]], device='cuda:0')\n",
            "\n",
            "\n"
          ]
        },
        {
          "output_type": "display_data",
          "data": {
            "text/plain": [
              "<Figure size 640x480 with 1 Axes>"
            ],
            "image/png": "[encoded data removed]"
          },
          "metadata": {}
        }
      ]
    }
  ]
}