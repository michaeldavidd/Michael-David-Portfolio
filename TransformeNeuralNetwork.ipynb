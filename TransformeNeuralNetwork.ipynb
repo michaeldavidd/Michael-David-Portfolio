{
  "nbformat": 4,
  "nbformat_minor": 0,
  "metadata": {
    "colab": {
      "provenance": [],
      "gpuType": "T4"
    },
    "kernelspec": {
      "name": "python3",
      "display_name": "Python 3"
    },
    "language_info": {
      "name": "python"
    },
    "accelerator": "GPU"
  },
  "cells": [
    {
      "cell_type": "markdown",
      "source": [
        "# Transformer Nueral Network\n"
      ],
      "metadata": {
        "id": "ro2AP3VMNqSI"
      }
    },
    {
      "cell_type": "code",
      "execution_count": 2,
      "metadata": {
        "id": "uiIa_vU3aJk7",
        "colab": {
          "base_uri": "https://localhost:8080/"
        },
        "outputId": "9433a74d-b1c5-4b1f-a23f-fb4b0e60493c"
      },
      "outputs": [
        {
          "output_type": "stream",
          "name": "stdout",
          "text": [
            "Mounted at /content/gdrive\n"
          ]
        }
      ],
      "source": [
        "from google.colab import drive\n",
        "drive.mount('/content/gdrive')"
      ]
    },
    {
      "cell_type": "code",
      "source": [
        "#Import statements\n",
        "import torch\n",
        "import torch.nn as nn\n",
        "import torch.nn.functional as F\n",
        "import torch.optim as optim\n",
        "from random import randint\n",
        "import utils\n",
        "import time\n",
        "import math"
      ],
      "metadata": {
        "id": "0ICjpcoW0n8g"
      },
      "execution_count": 4,
      "outputs": []
    },
    {
      "cell_type": "code",
      "source": [
        "#Device miscellaneous\n",
        "device = torch.device(\"cuda\")   #or \"cpu\" for mac CPU\n",
        "print(device)"
      ],
      "metadata": {
        "colab": {
          "base_uri": "https://localhost:8080/"
        },
        "id": "OKo5sBzt0n54",
        "outputId": "cfd0e692-65e3-45c4-9f45-46945ca3344a"
      },
      "execution_count": 5,
      "outputs": [
        {
          "output_type": "stream",
          "name": "stdout",
          "text": [
            "cuda\n"
          ]
        }
      ]
    },
    {
      "cell_type": "code",
      "source": [
        "torch.cuda.get_device_name()"
      ],
      "metadata": {
        "colab": {
          "base_uri": "https://localhost:8080/",
          "height": 34
        },
        "id": "6s4xzgmU0n3S",
        "outputId": "a16018c5-5822-4e08-8639-1f14b4b750b4"
      },
      "execution_count": 6,
      "outputs": [
        {
          "output_type": "execute_result",
          "data": {
            "text/plain": [
              "'Tesla T4'"
            ],
            "application/vnd.google.colaboratory.intrinsic+json": {
              "type": "string"
            }
          },
          "metadata": {},
          "execution_count": 6
        }
      ]
    },
    {
      "cell_type": "code",
      "source": [
        "#Download data\n",
        "train_data = torch.load(\"../data/twitter/train_data.pt\")\n",
        "train_label = torch.load(\"../data/twitter/train_label.pt\")\n",
        "train_actual_tweet = torch.load(\"../data/twitter/train_actual_tweet.pt\")\n",
        "\n",
        "test_data = torch.load(\"../data/twitter/test_data.pt\")\n",
        "test_label = torch.load(\"../data/twitter/test_label.pt\")\n",
        "test_actual_tweet = torch.load(\"../data/twitter/test_actual_tweet.pt\")\n",
        "\n",
        "idx2word = torch.load('../data/twitter/idx2word.pt')"
      ],
      "metadata": {
        "id": "I0JzPedB0n0s"
      },
      "execution_count": 7,
      "outputs": []
    },
    {
      "cell_type": "code",
      "source": [
        "#EDA\n",
        "print(\"train_data type:\", type(train_data), \"\\n\")                   #train_data is a LIST of TENSORS\n",
        "print(\"Size of train_data:\", len(train_data), \"\\n\")\n",
        "print(\"Words in train_data[0]:\", len(train_data[0]), \"\\n\")\n",
        "print(\"Index values of train_data[0]:\",  train_data[0], \"\\n\")\n",
        "print(\"Tweet train_data[0]:\", train_actual_tweet[0], \"\\n\")\n",
        "print(\"Sentiment label:\", train_label[0], \"\\n\")\n",
        "print(\"Vocabulary size:\", len(idx2word), \"\\n\")\n",
        "print(\"Vocabulary:\", idx2word[0:50])"
      ],
      "metadata": {
        "colab": {
          "base_uri": "https://localhost:8080/"
        },
        "id": "X0rcPtmO0nyV",
        "outputId": "5f7c5579-be13-453e-e50a-571bfc58fd64"
      },
      "execution_count": 8,
      "outputs": [
        {
          "output_type": "stream",
          "name": "stdout",
          "text": [
            "train_data type: <class 'list'> \n",
            "\n",
            "Size of train_data: 1428612 \n",
            "\n",
            "Words in train_data[0]: 25 \n",
            "\n",
            "Index values of train_data[0]: tensor([    0,   334,     0,   362,    21,     8,   124,    13,   105,    51,\n",
            "         3610,     4,  1301,    21,    14,     7,   194, 10012,     2,    25,\n",
            "          451,    17,     9,   187,    64]) \n",
            "\n",
            "Tweet train_data[0]: @idlewild_ @zaktar Stop that, or you'll go blind. Hahahaha that is the best threat I have seen in a long time \n",
            "\n",
            "Sentiment label: tensor(1) \n",
            "\n",
            "Vocabulary size: 30002 \n",
            "\n",
            "Vocabulary: ['<unk>', '<pad>', 'i', '!', '.', 'to', ' ', 'the', ',', 'a', 'my', 'and', 'it', 'you', 'is', '?', '...', 'in', 'for', 'of', \"'s\", 'that', \"n't\", 'on', 'me', 'have', 'so', 'but', 'do', \"'m\", 'just', '-', 'with', 'be', 'was', 'at', 'not', '..', '&', 'this', 'now', ';', 'up', 'good', 'day', 'all', 'get', 'out', 'are', 'like']\n"
          ]
        }
      ]
    },
    {
      "cell_type": "code",
      "source": [
        "#Attention Function\n",
        "def scaled_dot_product_attention(Q, K, V):\n",
        "    #Q & K: bs x nh x T x d_key\n",
        "    #V: bs x nh x T x d_val\n",
        "\n",
        "    d_key = K.shape[-1]\n",
        "    Ã  = Q @ K.transpose(-2, -1) / math.sqrt(d_key)\n",
        "    A = F.softmax(Ã, dim=-1)    #A: bs x nh x T x T\n",
        "\n",
        "    Y = A @ V                   #Y: bs x nh x T x d_val\n",
        "\n",
        "    return Y"
      ],
      "metadata": {
        "id": "0D4GXQoQ0nvX"
      },
      "execution_count": 9,
      "outputs": []
    },
    {
      "cell_type": "code",
      "source": [
        "#Multihead Attention\n",
        "class MultiHeadAttention(nn.Module):\n",
        "    def __init__(self, d, num_heads):           #class MultiHeadAttention takes 2 arguemnts (d and num_heads)\n",
        "        super().__init__()\n",
        "\n",
        "        assert d % num_heads == 0               #Mind this when choosing parameters (num_heads, d_in)\n",
        "        d_key = d // num_heads\n",
        "        d_val = d // num_heads\n",
        "\n",
        "        self.linear_q = nn.Linear(d , num_heads * d_key, bias=False)\n",
        "        self.linear_k = nn.Linear(d, num_heads * d_key, bias=False)\n",
        "        self.linear_v = nn.Linear(d , num_heads * d_val, bias=False)\n",
        "        self.linear_out = nn.Linear(d, d, bias=False)\n",
        "\n",
        "        self.nh = num_heads\n",
        "        self.dk = d_key\n",
        "        self.dv = d_val\n",
        "\n",
        "\n",
        "    def forward(self, x):                       # x is: bs x T x d\n",
        "        # extract batchsize and length of the sequence\n",
        "        bs = x.shape[0]\n",
        "        T = x.shape[1]\n",
        "\n",
        "        # compute query, keys and values\n",
        "        Q = self.linear_q(x)                    # (bs, T, nh*dk)\n",
        "        K = self.linear_k(x)                    # (bs, T, nh*dk)\n",
        "        V = self.linear_v(x)                    # (bs, T, nh*dv)\n",
        "\n",
        "        # reshape\n",
        "        Q = Q.view(bs, T, self.nh, self.dk)     # (bs, T, nh, dk)\n",
        "        K = K.view(bs, T, self.nh, self.dk)     # (bs, T, nh, dk)\n",
        "        V = V.view(bs, T, self.nh, self.dk)     # (bs, T, nh, dv)\n",
        "\n",
        "        # switch dimension so the head dimension is considered as a batch dimension\n",
        "        Q = Q.transpose(1, 2)                   # (bs, nh, T, dk)\n",
        "        K = K.transpose(1, 2)                   # (bs, nh, T, dk)\n",
        "        V = V.transpose(1, 2)                   # (bs, nh, T, dv)\n",
        "\n",
        "        # scaled dot product on batch of batch of T-by-dk and T-by-dv matrices\n",
        "        Y = scaled_dot_product_attention(Q,K, V) # (bs, nh, T, dv)\n",
        "\n",
        "        #reshape_2:\n",
        "        # switch dimension back\n",
        "        Y = Y.transpose(1, 2).contiguous()      # (bs, T, nh, dv)\n",
        "\n",
        "        # reshape\n",
        "        Y = Y.view(bs, T, self.nh * self.dv)    # (bs, T, nh*dv)\n",
        "\n",
        "        # final linear layer\n",
        "        Y = self.linear_out(Y)                 # (bs, T, nh*dv)            #Final linear layer W_o\n",
        "\n",
        "        return Y"
      ],
      "metadata": {
        "id": "-IKM5Qbh0nm8"
      },
      "execution_count": 10,
      "outputs": []
    },
    {
      "cell_type": "code",
      "source": [
        "#MLP (Multi Layer Perceptron)\n",
        "class MLP(nn.Module):\n",
        "    def __init__(self, d):\n",
        "        super().__init__()\n",
        "        self.linear_1 = nn.Linear(d, 4*d)       #4*d is convention\n",
        "        self.linear_2 = nn.Linear(4*d, d)\n",
        "\n",
        "    def forward(self, x):                       #x: bs x T x d\n",
        "        x = self.linear_1(x)\n",
        "        x = F.relu(x)\n",
        "        x = self.linear_2(x)\n",
        "\n",
        "        return x"
      ],
      "metadata": {
        "id": "kRIJBz2K06PL"
      },
      "execution_count": 11,
      "outputs": []
    },
    {
      "cell_type": "code",
      "source": [
        "#Transformer Block\n",
        "class TransformerBlock(nn.Module):\n",
        "    def __init__(self, d, num_heads):\n",
        "        super().__init__()\n",
        "\n",
        "        #Assigning attributes\n",
        "        self.d = d\n",
        "        self.num_heads = num_heads\n",
        "\n",
        "        #Layer Normalization\n",
        "        self.mod_layernorm = nn.LayerNorm(d, elementwise_affine=False)\n",
        "\n",
        "        #MLP block\n",
        "        self.MLP_block = MLP(d)\n",
        "\n",
        "        #Attention block\n",
        "        self.attention_block = MultiHeadAttention(d, num_heads)\n",
        "\n",
        "\n",
        "    def forward(self, x):\n",
        "\n",
        "        #Layer Normalization\n",
        "        x_ln = self.mod_layernorm(x)\n",
        "\n",
        "        #Multi-Head Attention\n",
        "        y =self.attention_block(x_ln)\n",
        "\n",
        "        #Layer Normalization\n",
        "        y_ln = self.mod_layernorm(y)\n",
        "\n",
        "        #MLP\n",
        "        z = self.MLP_block(y_ln)\n",
        "\n",
        "        #Residual connection\n",
        "        output = x + y + z\n",
        "\n",
        "        return output"
      ],
      "metadata": {
        "id": "NWxBte3o06LQ"
      },
      "execution_count": 12,
      "outputs": []
    },
    {
      "cell_type": "code",
      "source": [
        "#Transformer Architecture\n",
        "class Transformer(nn.Module):\n",
        "    def __init__(self, d, blocks, num_heads):       #input is x: bs x T x d_in\n",
        "        super().__init__()\n",
        "\n",
        "        #Assigning attributes\n",
        "        self.d = d\n",
        "        self.blocks = blocks\n",
        "        self.num_heads = num_heads\n",
        "        self.max_length = 183                              #Whatever the LONGESET sequence/tweet in the minibatch is\n",
        "\n",
        "        #Embedding modules\n",
        "        self.mod_embed = nn.Embedding(30002, d)     #30,002 is the size of the vocabulary. What embedding dimension should we choose?\n",
        "        self.mod_pos = nn.Embedding(self.max_length, d)\n",
        "\n",
        "        #Final binary classification layer\n",
        "        self.W_v = nn.Linear(d, 2)\n",
        "\n",
        "        #_n_ transformer blocks\n",
        "        transformer_list = []\n",
        "        for i in range(blocks):\n",
        "            mod = TransformerBlock(d, num_heads)\n",
        "            transformer_list.append(mod)\n",
        "        self.transformers = nn.ModuleList(transformer_list)\n",
        "\n",
        "\n",
        "    def forward(self, x):\n",
        "\n",
        "        #Variable assignment\n",
        "        bs = x.shape[0]\n",
        "\n",
        "        #Word embeddings\n",
        "        x = self.mod_embed(x)                 #Slides Transformers_2: y = mod(minibatch)      (mod = nn.Embedding(diction, d_in))\n",
        "\n",
        "        #Transformer blocks\n",
        "        for i in range(self.blocks):\n",
        "            transformer_block = self.transformers[i]\n",
        "            x = transformer_block(x)\n",
        "\n",
        "        #Average\n",
        "        z = x.mean(dim=1)                           #Choose so that dim=T so that we are left with bs x d_in (x 1)\n",
        "\n",
        "        #V linear layer\n",
        "        #RESHAPE z FOR SIZE-COMPATIBILITY\n",
        "        z = z.view(bs, self.d)\n",
        "        result = self.W_v(z)\n",
        "\n",
        "        return result"
      ],
      "metadata": {
        "id": "Pq7YVtpB06He"
      },
      "execution_count": 13,
      "outputs": []
    },
    {
      "cell_type": "code",
      "source": [
        "#Network instantiation\n",
        "d_in = 120          #100-1000                        #d_in / #heads has to be an integer!           # d_val = d_key = d_in / # heads\n",
        "blocks = 4          #4-12 transformer blocks\n",
        "num_heads = 6       #6, 8, 10, 12 heads\n",
        "\n",
        "net = Transformer(d_in, blocks, num_heads)\n",
        "\n",
        "#Send network to GPU\n",
        "net = net.to(device)"
      ],
      "metadata": {
        "id": "RwqCEZ1K06D4"
      },
      "execution_count": 14,
      "outputs": []
    },
    {
      "cell_type": "code",
      "source": [
        "#Training-Loop Miscellaneous\n",
        "lr = 0.0001\n",
        "optimizer = optim.AdamW(net.parameters(), lr, weight_decay=0.1, betas=(0.9, 0.95))\n",
        "criterion = nn.CrossEntropyLoss()\n",
        "bs = 200\n",
        "\n",
        "\n",
        "#Training Phase\n",
        "start=time.time()\n",
        "epochs = 10\n",
        "\n",
        "for epoch in range(epochs):\n",
        "    if epoch == 4:\n",
        "        lr = lr / 10\n",
        "\n",
        "    optimizer = optim.AdamW(net.parameters(), lr, weight_decay=0.1, betas=(0.9, 0.95))\n",
        "\n",
        "    running_loss=0\n",
        "    running_error=0\n",
        "    num_batches=0\n",
        "\n",
        "    shuffled_indices=torch.randperm(len(train_data))\n",
        "\n",
        "    for count in range(0, len(train_data), bs):\n",
        "\n",
        "        #Set gradients to zero\n",
        "        optimizer.zero_grad()\n",
        "\n",
        "        #Create minibatch\n",
        "        indices = shuffled_indices[count:count+bs]     #syntax?\n",
        "        minibatch_data, minibatch_label = utils.make_minibatch(indices, train_data, train_label)\n",
        "\n",
        "        #Send minibatch to GPU\n",
        "        minibatch_data = minibatch_data.to(device)\n",
        "        minibatch_label = minibatch_label.to(device)\n",
        "\n",
        "        #Forward minibatch through net\n",
        "        scores = net(minibatch_data)\n",
        "\n",
        "        #Compute average loss in minibatch\n",
        "        loss = criterion(scores, minibatch_label)\n",
        "\n",
        "        #Backward pass (computing dL/dW's)\n",
        "        loss.backward()\n",
        "\n",
        "        #One step of SGD\n",
        "        optimizer.step()\n",
        "\n",
        "        #COMPUTING STATS------------------------------\n",
        "        num_batches+=1\n",
        "\n",
        "        with torch.no_grad():\n",
        "\n",
        "            running_loss += loss.item()\n",
        "\n",
        "            error = utils.get_error( scores , minibatch_label)\n",
        "            running_error += error.item()\n",
        "\n",
        "\n",
        "    # compute stats for the full training set\n",
        "    total_loss = running_loss/num_batches\n",
        "    total_error = running_error/num_batches\n",
        "    elapsed = time.time()-start\n",
        "\n",
        "    print('epoch=',epoch, '\\t time=', elapsed, '\\t loss=', total_loss , '\\t error=', total_error*100 ,'percent')\n",
        "    print(' ')"
      ],
      "metadata": {
        "id": "9ZPsyyU5058X",
        "colab": {
          "base_uri": "https://localhost:8080/"
        },
        "outputId": "c64c9eca-04c9-4ca3-be0a-e95eea4599fb"
      },
      "execution_count": 16,
      "outputs": [
        {
          "output_type": "stream",
          "name": "stdout",
          "text": [
            "epoch= 0 \t time= 163.80912160873413 \t loss= 0.47790410760101787 \t error= 23.259940290404327 percent\n",
            " \n",
            "epoch= 1 \t time= 334.0300672054291 \t loss= 0.43108728731182494 \t error= 20.204602589065257 percent\n",
            " \n",
            "epoch= 2 \t time= 504.0011169910431 \t loss= 0.4138619192653781 \t error= 19.159343151202528 percent\n",
            " \n",
            "epoch= 3 \t time= 674.3262350559235 \t loss= 0.40226072930675605 \t error= 18.51243660404594 percent\n",
            " \n",
            "epoch= 4 \t time= 845.0933473110199 \t loss= 0.3822848780679309 \t error= 17.408829833164997 percent\n",
            " \n",
            "epoch= 5 \t time= 1015.5987076759338 \t loss= 0.3773609170250069 \t error= 17.146161884436548 percent\n",
            " \n",
            "epoch= 6 \t time= 1185.9882292747498 \t loss= 0.37440217522464164 \t error= 16.978958647068243 percent\n",
            " \n",
            "epoch= 7 \t time= 1356.6270315647125 \t loss= 0.3718056544236013 \t error= 16.834408444459868 percent\n",
            " \n",
            "epoch= 8 \t time= 1527.0652039051056 \t loss= 0.3693931381794867 \t error= 16.72646234026815 percent\n",
            " \n",
            "epoch= 9 \t time= 1697.8906610012054 \t loss= 0.3670351619061504 \t error= 16.583288616989922 percent\n",
            " \n"
          ]
        }
      ]
    },
    {
      "cell_type": "code",
      "source": [
        "idx=randint(0, len(test_data) - 1)\n",
        "tweet = test_data[idx]\n",
        "\n",
        "text_tweet = utils.tensor2text(tweet)\n",
        "label = train_label[idx]\n",
        "\n",
        "tweet = tweet.to(device)\n",
        "input = tweet.view(1,tweet.size(0))\n",
        "p = net(input)\n",
        "\n",
        "print('TWEET:', text_tweet )\n",
        "print('LABEL' , label )\n",
        "probs= F.softmax(p, dim=1)\n",
        "utils.show_prob(probs)"
      ],
      "metadata": {
        "id": "qWfxXUSt054v",
        "colab": {
          "base_uri": "https://localhost:8080/",
          "height": 438
        },
        "outputId": "2e385679-7075-4f75-a32b-19eaabd107a8"
      },
      "execution_count": 17,
      "outputs": [
        {
          "output_type": "stream",
          "name": "stdout",
          "text": [
            "TWEET: <unk> cheers . still no phone call i reckon they will wait till the end of the day\n",
            "LABEL tensor(1)\n"
          ]
        },
        {
          "output_type": "display_data",
          "data": {
            "text/plain": [
              "<Figure size 640x480 with 1 Axes>"
            ],
            "image/png": "[encoded data removed]"
          },
          "metadata": {}
        }
      ]
    },
    {
      "cell_type": "code",
      "source": [
        "tweet_text = \"Just had the best day ever ! Sunshine, good vibes, and accomplished all my goals . #Grateful\"\n",
        "tweet = utils.text2tensor(tweet_text)\n",
        "tweet = tweet.view(1,tweet.size(0))\n",
        "tweet = tweet.to(device)\n",
        "\n",
        "p = net(tweet)\n",
        "p= F.softmax(p, dim=1)\n",
        "\n",
        "print(\"TWEET:\", tweet_text)\n",
        "print(\"\\n\")\n",
        "print(tweet )\n",
        "print(\"\\n\")\n",
        "utils.show_prob(p)"
      ],
      "metadata": {
        "id": "EElgk29i1QiY",
        "colab": {
          "base_uri": "https://localhost:8080/",
          "height": 521
        },
        "outputId": "bb785974-334f-4800-9134-89ca6c1b9843"
      },
      "execution_count": 29,
      "outputs": [
        {
          "output_type": "stream",
          "name": "stdout",
          "text": [
            "TWEET: Just had the best day ever ! Sunshine, good vibes, and accomplished all my goals . #Grateful\n",
            "\n",
            "\n",
            "tensor([[  30,   77,    7,  194,   44,  243,    3,    0,   43,    0,   11, 3894,\n",
            "           45,   10, 5650,    4,    0]], device='cuda:0')\n",
            "\n",
            "\n"
          ]
        },
        {
          "output_type": "display_data",
          "data": {
            "text/plain": [
              "<Figure size 640x480 with 1 Axes>"
            ],
            "image/png": "[encoded data removed]"
          },
          "metadata": {}
        }
      ]
    },
    {
      "cell_type": "code",
      "source": [
        "tweet_text = \"Amazing teamwork at the office today ! Everyone pitched in and we nailed the project . #TeamworkMakesTheDreamWork\"\n",
        "tweet = utils.text2tensor(tweet_text)\n",
        "tweet = tweet.view(1,tweet.size(0))\n",
        "tweet = tweet.to(device)\n",
        "\n",
        "p = net(tweet)\n",
        "p= F.softmax(p, dim=1)\n",
        "\n",
        "print(\"TWEET:\",tweet_text)\n",
        "print(\"\\n\")\n",
        "print(tweet )\n",
        "print(\"\\n\")\n",
        "utils.show_prob(p)"
      ],
      "metadata": {
        "id": "kfckckUR1Qc_",
        "colab": {
          "base_uri": "https://localhost:8080/",
          "height": 521
        },
        "outputId": "097f7b25-f5fb-461f-fd2c-62bcb67245d1"
      },
      "execution_count": 21,
      "outputs": [
        {
          "output_type": "stream",
          "name": "stdout",
          "text": [
            "TWEET: Amazing teamwork at the office today ! Everyone pitched in and we nailed the project . #TeamworkMakesTheDreamWork\n",
            "\n",
            "\n",
            "tensor([[  252,     0,    35,     7,   512,    53,     3,   202, 15349,    17,\n",
            "            11,    58, 11260,     7,   925,     4,     0]], device='cuda:0')\n",
            "\n",
            "\n"
          ]
        },
        {
          "output_type": "display_data",
          "data": {
            "text/plain": [
              "<Figure size 640x480 with 1 Axes>"
            ],
            "image/png": "[encoded data removed]"
          },
          "metadata": {}
        }
      ]
    },
    {
      "cell_type": "code",
      "source": [
        "tweet_text = \"Had a terrible experience at the customer service today. Zero help, zero empathy. #CustomerServiceFail\"\n",
        "tweet = utils.text2tensor(tweet_text)\n",
        "tweet = tweet.view(1,tweet.size(0))\n",
        "tweet = tweet.to(device)\n",
        "\n",
        "p = net(tweet)\n",
        "p= F.softmax(p, dim=1)\n",
        "\n",
        "print(\"TWEET:\",tweet_text)\n",
        "print(\"\\n\")\n",
        "print(tweet)\n",
        "print(\"\\n\")\n",
        "utils.show_prob(p)"
      ],
      "metadata": {
        "id": "Ycg73RFd1aKK",
        "colab": {
          "base_uri": "https://localhost:8080/",
          "height": 521
        },
        "outputId": "7d6d13c9-0ca0-4827-a3d8-4122d9abfd9b"
      },
      "execution_count": 24,
      "outputs": [
        {
          "output_type": "stream",
          "name": "stdout",
          "text": [
            "TWEET: Had a terrible experience at the customer service today. Zero help, zero empathy. #CustomerServiceFail\n",
            "\n",
            "\n",
            "tensor([[  77,    9, 1033, 1440,   35,    7, 2923, 1006,    0, 3185,    0, 3185,\n",
            "            0,    0]], device='cuda:0')\n",
            "\n",
            "\n"
          ]
        },
        {
          "output_type": "display_data",
          "data": {
            "text/plain": [
              "<Figure size 640x480 with 1 Axes>"
            ],
            "image/png": "[encoded data removed]"
          },
          "metadata": {}
        }
      ]
    },
    {
      "cell_type": "code",
      "source": [
        "tweet_text = \"Attended an interesting webinar on artificial intelligence. Always learning something new. #ContinuousLearning\"\n",
        "tweet = utils.text2tensor(tweet_text)\n",
        "tweet = tweet.view(1,tweet.size(0))\n",
        "tweet = tweet.to(device)\n",
        "\n",
        "p = net(tweet)\n",
        "p= F.softmax(p, dim=1)\n",
        "\n",
        "print(\"TWEET:\",tweet_text)\n",
        "print(\"\\n\")\n",
        "print(tweet)\n",
        "print(\"\\n\")\n",
        "utils.show_prob(p)"
      ],
      "metadata": {
        "id": "P72QkJtm1aC_",
        "colab": {
          "base_uri": "https://localhost:8080/",
          "height": 521
        },
        "outputId": "61157877-612e-4e23-bad7-2b3281a7d42a"
      },
      "execution_count": 25,
      "outputs": [
        {
          "output_type": "stream",
          "name": "stdout",
          "text": [
            "TWEET: Attended an interesting webinar on artificial intelligence. Always learning something new. #ContinuousLearning\n",
            "\n",
            "\n",
            "tensor([[ 7900,   113,   705, 14260,    23, 22082,     0,   214,  1307,   223,\n",
            "             0,     0]], device='cuda:0')\n",
            "\n",
            "\n"
          ]
        },
        {
          "output_type": "display_data",
          "data": {
            "text/plain": [
              "<Figure size 640x480 with 1 Axes>"
            ],
            "image/png": "[encoded data removed]"
          },
          "metadata": {}
        }
      ]
    },
    {
      "cell_type": "code",
      "source": [
        "tweet_text = \"Impressed with how our company swiftly responded to the crisis. Clear communication, proactive measures, and a united front. \"\n",
        "tweet = utils.text2tensor(tweet_text)\n",
        "tweet = tweet.view(1,tweet.size(0))\n",
        "tweet = tweet.to(device)\n",
        "\n",
        "p = net(tweet)\n",
        "p= F.softmax(p, dim=1)\n",
        "\n",
        "print(\"TWEET:\",tweet_text)\n",
        "print(\"\\n\")\n",
        "print(tweet)\n",
        "print(\"\\n\")\n",
        "utils.show_prob(p)"
      ],
      "metadata": {
        "colab": {
          "base_uri": "https://localhost:8080/",
          "height": 537
        },
        "id": "mymEoFSS6Ou9",
        "outputId": "a90e210d-ff7f-4b29-c10a-dceb9d6b5a35"
      },
      "execution_count": 26,
      "outputs": [
        {
          "output_type": "stream",
          "name": "stdout",
          "text": [
            "TWEET: Impressed with how our company swiftly responded to the crisis. Clear communication, proactive measures, and a united front. \n",
            "\n",
            "\n",
            "tensor([[ 2092,    32,    81,   208,  1040,     0,  5585,     5,     7,     0,\n",
            "          1798,     0, 20315,     0,    11,     9,  3530,     0]],\n",
            "       device='cuda:0')\n",
            "\n",
            "\n"
          ]
        },
        {
          "output_type": "display_data",
          "data": {
            "text/plain": [
              "<Figure size 640x480 with 1 Axes>"
            ],
            "image/png": "[encoded data removed]"
          },
          "metadata": {}
        }
      ]
    }
  ]
}